{
  "nbformat": 4,
  "nbformat_minor": 0,
  "metadata": {
    "colab": {
      "name": "Traffic_Sign_Classifier - Copy - Acc-95.ipynb",
      "version": "0.3.2",
      "views": {},
      "default_view": {},
      "provenance": [],
      "collapsed_sections": []
    },
    "kernelspec": {
      "display_name": "Python 3",
      "language": "python",
      "name": "python3"
    },
    "accelerator": "GPU"
  },
  "cells": [
    {
      "metadata": {
        "id": "0tOOfL2zZ7pQ",
        "colab_type": "text"
      },
      "cell_type": "markdown",
      "source": [
        "# Self-Driving Car Engineer Nanodegree\n",
        "\n",
        "## Deep Learning\n",
        "\n",
        "## Project: Build a Traffic Sign Recognition Classifier\n",
        "\n",
        "In this notebook, a template is provided for you to implement your functionality in stages, which is required to successfully complete this project. If additional code is required that cannot be included in the notebook, be sure that the Python code is successfully imported and included in your submission if necessary. \n",
        "\n",
        "> **Note**: Once you have completed all of the code implementations, you need to finalize your work by exporting the iPython Notebook as an HTML document. Before exporting the notebook to html, all of the code cells need to have been run so that reviewers can see the final implementation and output. You can then export the notebook by using the menu above and navigating to  \\n\",\n",
        "    \"**File -> Download as -> HTML (.html)**. Include the finished document along with this notebook as your submission. \n",
        "\n",
        "In addition to implementing code, there is a writeup to complete. The writeup should be completed in a separate file, which can be either a markdown file or a pdf document. There is a [write up template](https://github.com/udacity/CarND-Traffic-Sign-Classifier-Project/blob/master/writeup_template.md) that can be used to guide the writing process. Completing the code template and writeup template will cover all of the [rubric points](https://review.udacity.com/#!/rubrics/481/view) for this project.\n",
        "\n",
        "The [rubric](https://review.udacity.com/#!/rubrics/481/view) contains \"Stand Out Suggestions\" for enhancing the project beyond the minimum requirements. The stand out suggestions are optional. If you decide to pursue the \"stand out suggestions\", you can include the code in this Ipython notebook and also discuss the results in the writeup file.\n",
        "\n",
        "\n",
        ">**Note:** Code and Markdown cells can be executed using the **Shift + Enter** keyboard shortcut. In addition, Markdown cells can be edited by typically double-clicking the cell to enter edit mode."
      ]
    },
    {
      "metadata": {
        "id": "xwBIEkbsZ7pR",
        "colab_type": "text"
      },
      "cell_type": "markdown",
      "source": [
        "---\n",
        "## Step 0: Load The Data"
      ]
    },
    {
      "metadata": {
        "id": "NSXF1IM5alnh",
        "colab_type": "code",
        "colab": {
          "autoexec": {
            "startup": false,
            "wait_interval": 0
          },
          "output_extras": [
            {
              "item_id": 1
            }
          ],
          "base_uri": "https://localhost:8080/",
          "height": 34
        },
        "outputId": "f277f542-5c44-4ffc-ef45-22f0c898d1b9",
        "executionInfo": {
          "status": "ok",
          "timestamp": 1519101822997,
          "user_tz": -330,
          "elapsed": 1248,
          "user": {
            "displayName": "harveen singh",
            "photoUrl": "//lh4.googleusercontent.com/-peYiqFFVHaQ/AAAAAAAAAAI/AAAAAAAAGVo/ysqibM1SdeA/s50-c-k-no/photo.jpg",
            "userId": "108153078120775646699"
          }
        }
      },
      "cell_type": "code",
      "source": [
        "from urllib.request import urlretrieve\n",
        "import os\n",
        "import numpy as np\n",
        "from sklearn.preprocessing import LabelBinarizer\n",
        "from zipfile import ZipFile\n",
        "import math\n",
        "\n",
        "def download(url, file):\n",
        "    if not os.path.isfile(file):\n",
        "        print(\"Download file... \" + file + \" ...\")\n",
        "        urlretrieve(url,file)\n",
        "        print(\"File downloaded\")\n",
        "\n",
        "download('https://d17h27t6h515a5.cloudfront.net/topher/2017/February/5898cd6f_traffic-signs-data/traffic-signs-data.zip','data.zip')\n",
        "print(\"All the files are downloaded\")\n"
      ],
      "execution_count": 17,
      "outputs": [
        {
          "output_type": "stream",
          "text": [
            "All the files are downloaded\n"
          ],
          "name": "stdout"
        }
      ]
    },
    {
      "metadata": {
        "id": "l1VocAwOa8O1",
        "colab_type": "code",
        "colab": {
          "autoexec": {
            "startup": false,
            "wait_interval": 0
          },
          "output_extras": [
            {
              "item_id": 1
            }
          ],
          "base_uri": "https://localhost:8080/",
          "height": 34
        },
        "outputId": "5c5a614c-b332-48c2-b067-c73849277b0b",
        "executionInfo": {
          "status": "ok",
          "timestamp": 1519101825153,
          "user_tz": -330,
          "elapsed": 1156,
          "user": {
            "displayName": "harveen singh",
            "photoUrl": "//lh4.googleusercontent.com/-peYiqFFVHaQ/AAAAAAAAAAI/AAAAAAAAGVo/ysqibM1SdeA/s50-c-k-no/photo.jpg",
            "userId": "108153078120775646699"
          }
        }
      },
      "cell_type": "code",
      "source": [
        "def uncompress_features_labels(dir):\n",
        "    if(os.path.isdir('traffic-data')):\n",
        "        print('Data extracted')\n",
        "    else:\n",
        "        with ZipFile(dir) as zipf:\n",
        "            zipf.extractall('data')\n",
        "uncompress_features_labels('data.zip')\n",
        "\n",
        "def data_Files(mypath):\n",
        "    onlyfiles = [f for f in os.listdir(mypath) if os.path.isfile(os.path.join(mypath, f))]\n",
        "    print(onlyfiles)\n"
      ],
      "execution_count": 18,
      "outputs": [
        {
          "output_type": "stream",
          "text": [
            "Data extracted\n"
          ],
          "name": "stdout"
        }
      ]
    },
    {
      "metadata": {
        "id": "WoaDJDCJbI71",
        "colab_type": "code",
        "colab": {
          "autoexec": {
            "startup": false,
            "wait_interval": 0
          },
          "output_extras": [
            {
              "item_id": 1
            }
          ],
          "base_uri": "https://localhost:8080/",
          "height": 34
        },
        "outputId": "236913f2-7190-42be-c368-eec2322e0014",
        "executionInfo": {
          "status": "ok",
          "timestamp": 1519101828406,
          "user_tz": -330,
          "elapsed": 2231,
          "user": {
            "displayName": "harveen singh",
            "photoUrl": "//lh4.googleusercontent.com/-peYiqFFVHaQ/AAAAAAAAAAI/AAAAAAAAGVo/ysqibM1SdeA/s50-c-k-no/photo.jpg",
            "userId": "108153078120775646699"
          }
        }
      },
      "cell_type": "code",
      "source": [
        "# Load pickled data\n",
        "import pickle\n",
        "\n",
        "# TODO: Fill this in based on where you saved the training and testing data\n",
        "\n",
        "training_file = './traffic-data/train.p'\n",
        "validation_file='./traffic-data/valid.p'\n",
        "testing_file = './traffic-data/test.p'\n",
        "\n",
        "with open(training_file, mode='rb') as f:\n",
        "    train = pickle.load(f)\n",
        "with open(validation_file, mode='rb') as f:\n",
        "    valid = pickle.load(f)\n",
        "with open(testing_file, mode='rb') as f:\n",
        "    test = pickle.load(f)\n",
        "    \n",
        "X_train, y_train = train['features'], train['labels']\n",
        "X_valid, y_valid = valid['features'], valid['labels']\n",
        "X_test, y_test = test['features'], test['labels']\n",
        "print(\"Data Loaded!\")"
      ],
      "execution_count": 19,
      "outputs": [
        {
          "output_type": "stream",
          "text": [
            "Data Loaded!\n"
          ],
          "name": "stdout"
        }
      ]
    },
    {
      "metadata": {
        "id": "pss2ts54Z7p4",
        "colab_type": "text"
      },
      "cell_type": "markdown",
      "source": [
        "---\n",
        "\n",
        "## Step 1: Dataset Summary & Exploration\n",
        "\n",
        "The pickled data is a dictionary with 4 key/value pairs:\n",
        "\n",
        "- `'features'` is a 4D array containing raw pixel data of the traffic sign images, (num examples, width, height, channels).\n",
        "- `'labels'` is a 1D array containing the label/class id of the traffic sign. The file `signnames.csv` contains id -> name mappings for each id.\n",
        "- `'sizes'` is a list containing tuples, (width, height) representing the original width and height the image.\n",
        "- `'coords'` is a list containing tuples, (x1, y1, x2, y2) representing coordinates of a bounding box around the sign in the image. **THESE COORDINATES ASSUME THE ORIGINAL IMAGE. THE PICKLED DATA CONTAINS RESIZED VERSIONS (32 by 32) OF THESE IMAGES**\n",
        "\n",
        "Complete the basic data summary below. Use python, numpy and/or pandas methods to calculate the data summary rather than hard coding the results. For example, the [pandas shape method](http://pandas.pydata.org/pandas-docs/stable/generated/pandas.DataFrame.shape.html) might be useful for calculating some of the summary results. "
      ]
    },
    {
      "metadata": {
        "id": "hgjzaxh9Z7p5",
        "colab_type": "text"
      },
      "cell_type": "markdown",
      "source": [
        "### Provide a Basic Summary of the Data Set Using Python, Numpy and/or Pandas"
      ]
    },
    {
      "metadata": {
        "id": "m2zAY87-Z7p6",
        "colab_type": "code",
        "colab": {
          "autoexec": {
            "startup": false,
            "wait_interval": 0
          },
          "output_extras": [
            {
              "item_id": 1
            }
          ],
          "base_uri": "https://localhost:8080/",
          "height": 102
        },
        "outputId": "b2ef840d-b8a9-4ccb-e7a6-f6b64478831d",
        "executionInfo": {
          "status": "ok",
          "timestamp": 1519101830411,
          "user_tz": -330,
          "elapsed": 1379,
          "user": {
            "displayName": "harveen singh",
            "photoUrl": "//lh4.googleusercontent.com/-peYiqFFVHaQ/AAAAAAAAAAI/AAAAAAAAGVo/ysqibM1SdeA/s50-c-k-no/photo.jpg",
            "userId": "108153078120775646699"
          }
        }
      },
      "cell_type": "code",
      "source": [
        "### Replace each question mark with the appropriate value. \n",
        "### Use python, pandas or numpy methods rather than hard coding the results\n",
        "\n",
        "\n",
        "import numpy as np\n",
        "\n",
        "# Number of training examples\n",
        "n_train = np.shape(X_train)[0]\n",
        "\n",
        "# Number of validation examples\n",
        "n_validation = np.shape(X_valid)[0]\n",
        "\n",
        "# Number of testing examples.\n",
        "n_test = np.shape(X_test)[0]\n",
        "\n",
        "# What's the shape of an traffic sign image?\n",
        "image_shape = np.shape(X_train[0])\n",
        "\n",
        "# How many unique classes/labels there are in the dataset.\n",
        "n_classes = 43\n",
        "\n",
        "print(\"Number of training examples =\", n_train)\n",
        "print(\"Number of validation examples =\", n_validation)\n",
        "print(\"Number of testing examples =\", n_test)\n",
        "print(\"Image data shape =\", image_shape)\n",
        "print(\"Number of classes =\", n_classes)"
      ],
      "execution_count": 20,
      "outputs": [
        {
          "output_type": "stream",
          "text": [
            "Number of training examples = 34799\n",
            "Number of validation examples = 4410\n",
            "Number of testing examples = 12630\n",
            "Image data shape = (32, 32, 3)\n",
            "Number of classes = 43\n"
          ],
          "name": "stdout"
        }
      ]
    },
    {
      "metadata": {
        "id": "ll2iXd98Z7p_",
        "colab_type": "text"
      },
      "cell_type": "markdown",
      "source": [
        "### Include an exploratory visualization of the dataset"
      ]
    },
    {
      "metadata": {
        "id": "XAW_T_1gZ7qA",
        "colab_type": "text"
      },
      "cell_type": "markdown",
      "source": [
        "Visualize the German Traffic Signs Dataset using the pickled file(s). This is open ended, suggestions include: plotting traffic sign images, plotting the count of each sign, etc. \n",
        "\n",
        "The [Matplotlib](http://matplotlib.org/) [examples](http://matplotlib.org/examples/index.html) and [gallery](http://matplotlib.org/gallery.html) pages are a great resource for doing visualizations in Python.\n",
        "\n",
        "**NOTE:** It's recommended you start with something simple first. If you wish to do more, come back to it after you've completed the rest of the sections. It can be interesting to look at the distribution of classes in the training, validation and test set. Is the distribution the same? Are there more examples of some classes than others?"
      ]
    },
    {
      "metadata": {
        "id": "Lu1q8bX5Z7qC",
        "colab_type": "code",
        "colab": {
          "autoexec": {
            "startup": false,
            "wait_interval": 0
          },
          "output_extras": [
            {
              "item_id": 1
            },
            {
              "item_id": 2
            }
          ],
          "base_uri": "https://localhost:8080/",
          "height": 520
        },
        "outputId": "d17609b7-ca88-4b81-9fa3-fd29227c51ff",
        "executionInfo": {
          "status": "ok",
          "timestamp": 1519107328454,
          "user_tz": -330,
          "elapsed": 8756,
          "user": {
            "displayName": "harveen singh",
            "photoUrl": "//lh4.googleusercontent.com/-peYiqFFVHaQ/AAAAAAAAAAI/AAAAAAAAGVo/ysqibM1SdeA/s50-c-k-no/photo.jpg",
            "userId": "108153078120775646699"
          }
        }
      },
      "cell_type": "code",
      "source": [
        "### Data exploration visualization code goes here.\n",
        "### Feel free to use as many code cells as needed.\n",
        "import matplotlib.pyplot as plt\n",
        "# Visualizations will be shown in the notebook.\n",
        "%matplotlib inline\n",
        "\n",
        "\n",
        "#uni,index,count=np.unique(y_train,return_index=true,return_count=true)\n",
        "plt.hist(y_train,bins=43)\n",
        "\n"
      ],
      "execution_count": 58,
      "outputs": [
        {
          "output_type": "execute_result",
          "data": {
            "text/plain": [
              "(array([ 180., 1980., 2010., 1260., 1770., 1650.,  360., 1290., 1260.,\n",
              "        1320., 1800., 1170., 1890., 1920.,  690.,  540.,  360.,  990.,\n",
              "        1080.,  180.,  300.,  270.,  330.,  450.,  240., 1350.,  540.,\n",
              "         210.,  480.,  240.,  390.,  690.,  210.,  599.,  360., 1080.,\n",
              "         330.,  180., 1860.,  270.,  300.,  210.,  210.]),\n",
              " array([ 0.        ,  0.97674419,  1.95348837,  2.93023256,  3.90697674,\n",
              "         4.88372093,  5.86046512,  6.8372093 ,  7.81395349,  8.79069767,\n",
              "         9.76744186, 10.74418605, 11.72093023, 12.69767442, 13.6744186 ,\n",
              "        14.65116279, 15.62790698, 16.60465116, 17.58139535, 18.55813953,\n",
              "        19.53488372, 20.51162791, 21.48837209, 22.46511628, 23.44186047,\n",
              "        24.41860465, 25.39534884, 26.37209302, 27.34883721, 28.3255814 ,\n",
              "        29.30232558, 30.27906977, 31.25581395, 32.23255814, 33.20930233,\n",
              "        34.18604651, 35.1627907 , 36.13953488, 37.11627907, 38.09302326,\n",
              "        39.06976744, 40.04651163, 41.02325581, 42.        ]),\n",
              " <a list of 43 Patch objects>)"
            ]
          },
          "metadata": {
            "tags": []
          },
          "execution_count": 58
        },
        {
          "output_type": "display_data",
          "data": {
            "image/png": "[encoded data removed]",
            "text/plain": [
              "<matplotlib.figure.Figure at 0x7fb8f9163668>"
            ]
          },
          "metadata": {
            "tags": []
          }
        }
      ]
    },
    {
      "metadata": {
        "id": "73Eu01_0Z7qK",
        "colab_type": "text"
      },
      "cell_type": "markdown",
      "source": [
        "----\n",
        "\n",
        "## Step 2: Design and Test a Model Architecture\n",
        "\n",
        "Design and implement a deep learning model that learns to recognize traffic signs. Train and test your model on the [German Traffic Sign Dataset](http://benchmark.ini.rub.de/?section=gtsrb&subsection=dataset).\n",
        "\n",
        "The LeNet-5 implementation shown in the [classroom](https://classroom.udacity.com/nanodegrees/nd013/parts/fbf77062-5703-404e-b60c-95b78b2f3f9e/modules/6df7ae49-c61c-4bb2-a23e-6527e69209ec/lessons/601ae704-1035-4287-8b11-e2c2716217ad/concepts/d4aca031-508f-4e0b-b493-e7b706120f81) at the end of the CNN lesson is a solid starting point. You'll have to change the number of classes and possibly the preprocessing, but aside from that it's plug and play! \n",
        "\n",
        "With the LeNet-5 solution from the lecture, you should expect a validation set accuracy of about 0.89. To meet specifications, the validation set accuracy will need to be at least 0.93. It is possible to get an even higher accuracy, but 0.93 is the minimum for a successful project submission. \n",
        "\n",
        "There are various aspects to consider when thinking about this problem:\n",
        "\n",
        "- Neural network architecture (is the network over or underfitting?)\n",
        "- Play around preprocessing techniques (normalization, rgb to grayscale, etc)\n",
        "- Number of examples per label (some have more than others).\n",
        "- Generate fake data.\n",
        "\n",
        "Here is an example of a [published baseline model on this problem](http://yann.lecun.com/exdb/publis/pdf/sermanet-ijcnn-11.pdf). It's not required to be familiar with the approach used in the paper but, it's good practice to try to read papers like these."
      ]
    },
    {
      "metadata": {
        "id": "RRQm-qxBZ7qM",
        "colab_type": "text"
      },
      "cell_type": "markdown",
      "source": [
        "### Pre-process the Data Set (normalization, grayscale, etc.)"
      ]
    },
    {
      "metadata": {
        "id": "_7bK5gc3Z7qM",
        "colab_type": "text"
      },
      "cell_type": "markdown",
      "source": [
        "Minimally, the image data should be normalized so that the data has mean zero and equal variance. For image data, `(pixel - 128)/ 128` is a quick way to approximately normalize the data and can be used in this project. \n",
        "\n",
        "Other pre-processing steps are optional. You can try different techniques to see if it improves performance. \n",
        "\n",
        "Use the code cell (or multiple code cells, if necessary) to implement the first step of your project."
      ]
    },
    {
      "metadata": {
        "id": "D7mUwDePZ7qO",
        "colab_type": "code",
        "colab": {
          "autoexec": {
            "startup": false,
            "wait_interval": 0
          }
        }
      },
      "cell_type": "code",
      "source": [
        "### Preprocess the data here. It is required to normalize the data. Other preprocessing steps could include \n",
        "### converting to grayscale, etc.\n",
        "### Feel free to use as many code cells as needed."
      ],
      "execution_count": 0,
      "outputs": []
    },
    {
      "metadata": {
        "id": "389kAz10Z7qR",
        "colab_type": "code",
        "colab": {
          "autoexec": {
            "startup": false,
            "wait_interval": 0
          }
        }
      },
      "cell_type": "code",
      "source": [
        "from sklearn.utils import shuffle\n",
        "\n",
        "X_train, y_train = shuffle(X_train, y_train)"
      ],
      "execution_count": 0,
      "outputs": []
    },
    {
      "metadata": {
        "id": "l1sH6Ao7Z7qW",
        "colab_type": "code",
        "colab": {
          "autoexec": {
            "startup": false,
            "wait_interval": 0
          }
        }
      },
      "cell_type": "code",
      "source": [
        "import tensorflow as tf\n",
        "\n",
        "EPOCHS = 40\n",
        "BATCH_SIZE = 128"
      ],
      "execution_count": 0,
      "outputs": []
    },
    {
      "metadata": {
        "id": "Ghb_knJrZ7qb",
        "colab_type": "text"
      },
      "cell_type": "markdown",
      "source": [
        "### Model Architecture"
      ]
    },
    {
      "metadata": {
        "id": "30OeWE1SZ7qc",
        "colab_type": "code",
        "colab": {
          "autoexec": {
            "startup": false,
            "wait_interval": 0
          }
        }
      },
      "cell_type": "code",
      "source": [
        "### Define your architecture here.\n",
        "### Feel free to use as many code cells as needed."
      ],
      "execution_count": 0,
      "outputs": []
    },
    {
      "metadata": {
        "id": "9aH4REckZ7qf",
        "colab_type": "code",
        "colab": {
          "autoexec": {
            "startup": false,
            "wait_interval": 0
          }
        }
      },
      "cell_type": "code",
      "source": [
        "from tensorflow.contrib.layers import flatten\n",
        "\n",
        "def LeNet(x):    \n",
        "    # Arguments used for tf.truncated_normal, randomly defines variables for the weights and biases for each layer\n",
        "    mu = 0\n",
        "    sigma = 0.1\n",
        "    \n",
        "    # TODO: Layer 1: Convolutional. Input = 32x32x1. Output = 28x28x6.\n",
        "    conv1_W= tf.Variable(tf.truncated_normal(shape=(5,5,3,6), mean=mu, stddev=sigma))\n",
        "    conv1_b= tf.Variable(tf.zeros(6))\n",
        "    conv1= tf.nn.conv2d(x,conv1_W,strides=[1,1,1,1],padding='VALID',use_cudnn_on_gpu=True) + conv1_b\n",
        "\n",
        "    # TODO: Activation.\n",
        "    conv1= tf.nn.relu(conv1)\n",
        "\n",
        "    # TODO: Pooling. Input = 28x28x6. Output = 14x14x6.\n",
        "    #conv1= tf.nn.max_pool(conv1,ksize=[1,2,2,1],strides=[1,1,1,1],padding='VALID')\n",
        "\n",
        "    conv3_W= tf.Variable(tf.truncated_normal(shape=(5,5,6,10), mean=mu, stddev=sigma))\n",
        "    conv3_b= tf.Variable(tf.zeros(10))\n",
        "    conv3= tf.nn.conv2d(conv1,conv3_W,strides=[1,2,2,1],padding='VALID',use_cudnn_on_gpu=True) + conv3_b\n",
        "\n",
        "    # TODO: Activation.\n",
        "    conv3= tf.nn.relu(conv3)\n",
        "\n",
        "    \n",
        "    \n",
        "    # TODO: Layer 2: Convolutional. Output = 10x10x16.\n",
        "    conv2_W= tf.Variable(tf.truncated_normal(shape=(5,5,10,16),mean=mu,stddev=sigma))\n",
        "    conv2_b=tf.Variable(tf.zeros(16))\n",
        "    conv2= tf.nn.conv2d(conv3,conv2_W,strides=[1,1,1,1],padding='VALID',use_cudnn_on_gpu=True) + conv2_b\n",
        "    \n",
        "    # TODO: Activation.\n",
        "    conv2= tf.nn.relu(conv2)\n",
        "\n",
        "    # TODO: Pooling. Input = 10x10x16. Output = 5x5x16.\n",
        "    conv2= tf.nn.max_pool(conv2,ksize=[1,2,2,1],strides=[1,2,2,1],padding='VALID')\n",
        "\n",
        "    # TODO: Flatten. Input = 5x5x16. Output = 400.\n",
        "    f= flatten(conv2)\n",
        "    # TODO: Layer 3: Fully Connected. Input = 400. Output = 120.\n",
        "    fc1_W= tf.Variable(tf.truncated_normal(shape=(int(np.shape(f)[1]),120),mean=mu,stddev=sigma))\n",
        "    fc1_b= tf.Variable(tf.zeros(shape=120))\n",
        "    fc1= tf.matmul(f,fc1_W) + fc1_b\n",
        "    \n",
        "    # TODO: Activation.\n",
        "    fc1= tf.nn.relu(fc1)\n",
        "    \n",
        "    fc1 = tf.nn.dropout(fc1, keep_prob)\n",
        "\n",
        "    # TODO: Layer 4: Fully Connected. Input = 120. Output = 84.\n",
        "    fc2_W= tf.Variable(tf.truncated_normal(shape=(120,100),mean=mu,stddev=sigma))\n",
        "    fc2_b= tf.Variable(tf.zeros(100))\n",
        "    fc2= tf.matmul(fc1,fc2_W) + fc2_b\n",
        "    \n",
        "    # TODO: Activation.\n",
        "    fc2= tf.nn.relu(fc2)\n",
        "    \n",
        "    # TODO: Layer 4: Fully Connected. Input = 120. Output = 84.\n",
        "    fc4_W= tf.Variable(tf.truncated_normal(shape=(100,84),mean=mu,stddev=sigma))\n",
        "    fc4_b= tf.Variable(tf.zeros(84))\n",
        "    fc4= tf.matmul(fc2,fc4_W) + fc4_b\n",
        "    \n",
        "    # TODO: Activation.\n",
        "    fc4= tf.nn.relu(fc4)\n",
        "    \n",
        "    # TODO: Layer 5: Fully Connected. Input = 84. Output = 10.\n",
        "    fc3_W= tf.Variable(tf.truncated_normal(shape=(84,43),mean=mu,stddev=sigma))\n",
        "    fc3_b= tf.Variable(tf.zeros(43))\n",
        "    fc3= tf.matmul(fc4,fc3_W) + fc3_b\n",
        "    logits=fc3\n",
        "    \n",
        "    return logits"
      ],
      "execution_count": 0,
      "outputs": []
    },
    {
      "metadata": {
        "id": "-7s2g7RxZ7qj",
        "colab_type": "code",
        "colab": {
          "autoexec": {
            "startup": false,
            "wait_interval": 0
          },
          "output_extras": [
            {
              "item_id": 1
            }
          ],
          "base_uri": "https://localhost:8080/",
          "height": 34
        },
        "outputId": "4ee2e6b5-3304-49fd-9342-e14d5c0162fb",
        "executionInfo": {
          "status": "ok",
          "timestamp": 1519101845455,
          "user_tz": -330,
          "elapsed": 1533,
          "user": {
            "displayName": "harveen singh",
            "photoUrl": "//lh4.googleusercontent.com/-peYiqFFVHaQ/AAAAAAAAAAI/AAAAAAAAGVo/ysqibM1SdeA/s50-c-k-no/photo.jpg",
            "userId": "108153078120775646699"
          }
        }
      },
      "cell_type": "code",
      "source": [
        "x = tf.placeholder(tf.float32, (None, 32, 32, 3))\n",
        "y = tf.placeholder(tf.int32, (None))\n",
        "one_hot_y = tf.one_hot(y, 43)\n",
        "keep_prob = tf.placeholder(tf.float32)\n",
        "print(y)"
      ],
      "execution_count": 27,
      "outputs": [
        {
          "output_type": "stream",
          "text": [
            "Tensor(\"Placeholder_4:0\", dtype=int32)\n"
          ],
          "name": "stdout"
        }
      ]
    },
    {
      "metadata": {
        "id": "4tGESF8yZ7qn",
        "colab_type": "text"
      },
      "cell_type": "markdown",
      "source": [
        "### Train, Validate and Test the Model"
      ]
    },
    {
      "metadata": {
        "id": "bkOvVlANZ7qo",
        "colab_type": "text"
      },
      "cell_type": "markdown",
      "source": [
        "A validation set can be used to assess how well the model is performing. A low accuracy on the training and validation\n",
        "sets imply underfitting. A high accuracy on the training set but low accuracy on the validation set implies overfitting."
      ]
    },
    {
      "metadata": {
        "id": "YEDYiyORZ7qo",
        "colab_type": "code",
        "colab": {
          "autoexec": {
            "startup": false,
            "wait_interval": 0
          }
        }
      },
      "cell_type": "code",
      "source": [
        "### Train your model here.\n",
        "### Calculate and report the accuracy on the training and validation set.\n",
        "### Once a final model architecture is selected, \n",
        "### the accuracy on the test set should be calculated and reported as well.\n",
        "### Feel free to use as many code cells as needed.\n",
        "\n",
        "rate = 0.001 #changed from 0.001\n",
        "\n",
        "logits = LeNet(x)\n",
        "cross_entropy = tf.nn.softmax_cross_entropy_with_logits(labels=one_hot_y, logits=logits)\n",
        "loss_operation = tf.reduce_mean(cross_entropy)\n",
        "\n",
        "optimizer = tf.train.AdamOptimizer(learning_rate = rate)\n",
        "training_operation = optimizer.minimize(loss_operation)"
      ],
      "execution_count": 0,
      "outputs": []
    },
    {
      "metadata": {
        "id": "FRKoO6kSZ7qs",
        "colab_type": "code",
        "colab": {
          "autoexec": {
            "startup": false,
            "wait_interval": 0
          }
        }
      },
      "cell_type": "code",
      "source": [
        "correct_prediction = tf.equal(tf.argmax(logits, 1), tf.argmax(one_hot_y, 1))\n",
        "accuracy_operation = tf.reduce_mean(tf.cast(correct_prediction, tf.float32))\n",
        "saver = tf.train.Saver()\n",
        "\n",
        "def evaluate(X_data, y_data):\n",
        "    num_examples = len(X_data)\n",
        "    total_accuracy = 0\n",
        "    total_loss=0\n",
        "    sess = tf.get_default_session()\n",
        "    for offset in range(0, num_examples, BATCH_SIZE):\n",
        "        batch_x, batch_y = X_data[offset:offset+BATCH_SIZE], y_data[offset:offset+BATCH_SIZE]\n",
        "        accuracy,loss = sess.run([accuracy_operation,loss_operation],feed_dict={x: batch_x, y: batch_y,keep_prob:1})\n",
        "        total_accuracy += (accuracy * len(batch_x))\n",
        "        total_loss+= (loss*len(batch_x))\n",
        "    return total_accuracy / num_examples, total_loss/num_examples"
      ],
      "execution_count": 0,
      "outputs": []
    },
    {
      "metadata": {
        "id": "3FmltNwNZ7qv",
        "colab_type": "code",
        "colab": {
          "autoexec": {
            "startup": false,
            "wait_interval": 0
          },
          "output_extras": [
            {
              "item_id": 41
            },
            {
              "item_id": 42
            },
            {
              "item_id": 43
            }
          ],
          "base_uri": "https://localhost:8080/",
          "height": 2370
        },
        "outputId": "373c2038-696d-4990-9f31-caf72bbbdc81",
        "executionInfo": {
          "status": "ok",
          "timestamp": 1519103429422,
          "user_tz": -330,
          "elapsed": 116915,
          "user": {
            "displayName": "harveen singh",
            "photoUrl": "//lh4.googleusercontent.com/-peYiqFFVHaQ/AAAAAAAAAAI/AAAAAAAAGVo/ysqibM1SdeA/s50-c-k-no/photo.jpg",
            "userId": "108153078120775646699"
          }
        }
      },
      "cell_type": "code",
      "source": [
        "with tf.Session() as sess:\n",
        "    sess.run(tf.global_variables_initializer())\n",
        "    num_examples = len(X_train)\n",
        "    \n",
        "    print(\"Training...\")\n",
        "    print()\n",
        "    loss_Acc=[]\n",
        "    for i in range(EPOCHS):\n",
        "        X_train, y_train = shuffle(X_train, y_train)\n",
        "        for offset in range(0, num_examples, BATCH_SIZE):\n",
        "            end = offset + BATCH_SIZE\n",
        "            batch_x, batch_y = X_train[offset:end], y_train[offset:end]\n",
        "            sess.run(training_operation, feed_dict={x: batch_x, y: batch_y,keep_prob:0.5})\n",
        "            \n",
        "        validation_accuracy,loss_acc = evaluate(X_valid, y_valid)\n",
        "       \n",
        "        print(\"EPOCH {} ...\".format(i+1))\n",
        "        loss_Acc.append(loss_acc)\n",
        "        print(\"Validation Accuracy = {:.3f}\".format(validation_accuracy))\n",
        "        print()\n",
        "    plt.plot(range(0,EPOCHS),loss_Acc)\n",
        "    plt.ylabel('loss')\n",
        "    plt.xlabel('Epochs')\n",
        "    plt.show()\n",
        "    saver.save(sess, './trafficTest')\n",
        "    print(\"Model saved\")"
      ],
      "execution_count": 48,
      "outputs": [
        {
          "output_type": "stream",
          "text": [
            "Training...\n",
            "\n",
            "EPOCH 1 ...\n",
            "Validation Accuracy = 0.616\n",
            "\n",
            "EPOCH 2 ...\n",
            "Validation Accuracy = 0.805\n",
            "\n",
            "EPOCH 3 ...\n",
            "Validation Accuracy = 0.849\n",
            "\n",
            "EPOCH 4 ...\n",
            "Validation Accuracy = 0.899\n",
            "\n",
            "EPOCH 5 ...\n",
            "Validation Accuracy = 0.916\n",
            "\n",
            "EPOCH 6 ...\n",
            "Validation Accuracy = 0.915\n",
            "\n",
            "EPOCH 7 ...\n",
            "Validation Accuracy = 0.935\n",
            "\n",
            "EPOCH 8 ...\n",
            "Validation Accuracy = 0.930\n",
            "\n",
            "EPOCH 9 ...\n",
            "Validation Accuracy = 0.937\n",
            "\n",
            "EPOCH 10 ...\n",
            "Validation Accuracy = 0.930\n",
            "\n",
            "EPOCH 11 ...\n",
            "Validation Accuracy = 0.945\n",
            "\n",
            "EPOCH 12 ...\n",
            "Validation Accuracy = 0.947\n",
            "\n",
            "EPOCH 13 ...\n",
            "Validation Accuracy = 0.946\n",
            "\n",
            "EPOCH 14 ...\n",
            "Validation Accuracy = 0.943\n",
            "\n",
            "EPOCH 15 ...\n",
            "Validation Accuracy = 0.946\n",
            "\n",
            "EPOCH 16 ...\n",
            "Validation Accuracy = 0.947\n",
            "\n",
            "EPOCH 17 ...\n",
            "Validation Accuracy = 0.953\n",
            "\n",
            "EPOCH 18 ...\n",
            "Validation Accuracy = 0.945\n",
            "\n",
            "EPOCH 19 ...\n",
            "Validation Accuracy = 0.951\n",
            "\n",
            "EPOCH 20 ...\n",
            "Validation Accuracy = 0.953\n",
            "\n",
            "EPOCH 21 ...\n",
            "Validation Accuracy = 0.950\n",
            "\n",
            "EPOCH 22 ...\n",
            "Validation Accuracy = 0.951\n",
            "\n",
            "EPOCH 23 ...\n",
            "Validation Accuracy = 0.953\n",
            "\n",
            "EPOCH 24 ...\n",
            "Validation Accuracy = 0.954\n",
            "\n",
            "EPOCH 25 ...\n",
            "Validation Accuracy = 0.953\n",
            "\n",
            "EPOCH 26 ...\n",
            "Validation Accuracy = 0.957\n",
            "\n",
            "EPOCH 27 ...\n",
            "Validation Accuracy = 0.957\n",
            "\n",
            "EPOCH 28 ...\n",
            "Validation Accuracy = 0.951\n",
            "\n",
            "EPOCH 29 ...\n",
            "Validation Accuracy = 0.957\n",
            "\n",
            "EPOCH 30 ...\n",
            "Validation Accuracy = 0.952\n",
            "\n",
            "EPOCH 31 ...\n",
            "Validation Accuracy = 0.957\n",
            "\n",
            "EPOCH 32 ...\n",
            "Validation Accuracy = 0.952\n",
            "\n",
            "EPOCH 33 ...\n",
            "Validation Accuracy = 0.961\n",
            "\n",
            "EPOCH 34 ...\n",
            "Validation Accuracy = 0.958\n",
            "\n",
            "EPOCH 35 ...\n",
            "Validation Accuracy = 0.960\n",
            "\n",
            "EPOCH 36 ...\n",
            "Validation Accuracy = 0.961\n",
            "\n",
            "EPOCH 37 ...\n",
            "Validation Accuracy = 0.959\n",
            "\n",
            "EPOCH 38 ...\n",
            "Validation Accuracy = 0.958\n",
            "\n",
            "EPOCH 39 ...\n",
            "Validation Accuracy = 0.959\n",
            "\n",
            "EPOCH 40 ...\n",
            "Validation Accuracy = 0.962\n",
            "\n"
          ],
          "name": "stdout"
        },
        {
          "output_type": "display_data",
          "data": {
            "image/png": "[encoded data removed]",
            "text/plain": [
              "<matplotlib.figure.Figure at 0x7fb8f901dd68>"
            ]
          },
          "metadata": {
            "tags": []
          }
        },
        {
          "output_type": "stream",
          "text": [
            "Model saved\n"
          ],
          "name": "stdout"
        }
      ]
    },
    {
      "metadata": {
        "id": "8g8-1wQjZ7q2",
        "colab_type": "text"
      },
      "cell_type": "markdown",
      "source": [
        "---\n",
        "\n",
        "## Step 3: Test a Model on New Images\n",
        "\n",
        "To give yourself more insight into how your model is working, download at least five pictures of German traffic signs from the web and use your model to predict the traffic sign type.\n",
        "\n",
        "You may find `signnames.csv` useful as it contains mappings from the class id (integer) to the actual sign name."
      ]
    },
    {
      "metadata": {
        "id": "8JCqKffuZ7q4",
        "colab_type": "text"
      },
      "cell_type": "markdown",
      "source": [
        "### Load and Output the Images"
      ]
    },
    {
      "metadata": {
        "id": "W9t0St5GZ7q5",
        "colab_type": "code",
        "colab": {
          "autoexec": {
            "startup": false,
            "wait_interval": 0
          },
          "output_extras": [
            {
              "item_id": 2
            }
          ],
          "base_uri": "https://localhost:8080/",
          "height": 51
        },
        "outputId": "b8e1deb3-829a-482b-fe3c-0deac250ea16",
        "executionInfo": {
          "status": "ok",
          "timestamp": 1519100509968,
          "user_tz": -330,
          "elapsed": 2288,
          "user": {
            "displayName": "harveen singh",
            "photoUrl": "//lh4.googleusercontent.com/-peYiqFFVHaQ/AAAAAAAAAAI/AAAAAAAAGVo/ysqibM1SdeA/s50-c-k-no/photo.jpg",
            "userId": "108153078120775646699"
          }
        }
      },
      "cell_type": "code",
      "source": [
        "### Load the images and plot them here.\n",
        "### Feel free to use as many code cells as needed.\n",
        "with tf.Session() as sess:\n",
        "    saver.restore(sess, tf.train.latest_checkpoint('.'))\n",
        "\n",
        "    test_accuracy = evaluate(X_test, y_test)\n",
        "    print(\"Test Accuracy = {:.3f}\".format(test_accuracy))"
      ],
      "execution_count": 13,
      "outputs": [
        {
          "output_type": "stream",
          "text": [
            "INFO:tensorflow:Restoring parameters from ./trafficTest\n",
            "Test Accuracy = 0.947\n"
          ],
          "name": "stdout"
        }
      ]
    },
    {
      "metadata": {
        "id": "FtGUoHlLZ7q8",
        "colab_type": "text"
      },
      "cell_type": "markdown",
      "source": [
        "### Predict the Sign Type for Each Image"
      ]
    },
    {
      "metadata": {
        "id": "16LMmwvmZ7q9",
        "colab_type": "code",
        "colab": {
          "autoexec": {
            "startup": false,
            "wait_interval": 0
          }
        }
      },
      "cell_type": "code",
      "source": [
        "### Run the predictions here and use the model to output the prediction for each image.\n",
        "### Make sure to pre-process the images with the same pre-processing pipeline used earlier.\n",
        "### Feel free to use as many code cells as needed."
      ],
      "execution_count": 0,
      "outputs": []
    },
    {
      "metadata": {
        "id": "1MTrffi8Z7rA",
        "colab_type": "text"
      },
      "cell_type": "markdown",
      "source": [
        "### Analyze Performance"
      ]
    },
    {
      "metadata": {
        "id": "AnTzC3K0Z7rB",
        "colab_type": "code",
        "colab": {
          "autoexec": {
            "startup": false,
            "wait_interval": 0
          }
        }
      },
      "cell_type": "code",
      "source": [
        "### Calculate the accuracy for these 5 new images. \n",
        "### For example, if the model predicted 1 out of 5 signs correctly, it's 20% accurate on these new images."
      ],
      "execution_count": 0,
      "outputs": []
    },
    {
      "metadata": {
        "id": "R8T4BAeoZ7rH",
        "colab_type": "text"
      },
      "cell_type": "markdown",
      "source": [
        "### Output Top 5 Softmax Probabilities For Each Image Found on the Web"
      ]
    },
    {
      "metadata": {
        "id": "kB3P2e71Z7rJ",
        "colab_type": "text"
      },
      "cell_type": "markdown",
      "source": [
        "For each of the new images, print out the model's softmax probabilities to show the **certainty** of the model's predictions (limit the output to the top 5 probabilities for each image). [`tf.nn.top_k`](https://www.tensorflow.org/versions/r0.12/api_docs/python/nn.html#top_k) could prove helpful here. \n",
        "\n",
        "The example below demonstrates how tf.nn.top_k can be used to find the top k predictions for each image.\n",
        "\n",
        "`tf.nn.top_k` will return the values and indices (class ids) of the top k predictions. So if k=3, for each sign, it'll return the 3 largest probabilities (out of a possible 43) and the correspoding class ids.\n",
        "\n",
        "Take this numpy array as an example. The values in the array represent predictions. The array contains softmax probabilities for five candidate images with six possible classes. `tf.nn.top_k` is used to choose the three classes with the highest probability:\n",
        "\n",
        "```\n",
        "# (5, 6) array\n",
        "a = np.array([[ 0.24879643,  0.07032244,  0.12641572,  0.34763842,  0.07893497,\n",
        "         0.12789202],\n",
        "       [ 0.28086119,  0.27569815,  0.08594638,  0.0178669 ,  0.18063401,\n",
        "         0.15899337],\n",
        "       [ 0.26076848,  0.23664738,  0.08020603,  0.07001922,  0.1134371 ,\n",
        "         0.23892179],\n",
        "       [ 0.11943333,  0.29198961,  0.02605103,  0.26234032,  0.1351348 ,\n",
        "         0.16505091],\n",
        "       [ 0.09561176,  0.34396535,  0.0643941 ,  0.16240774,  0.24206137,\n",
        "         0.09155967]])\n",
        "```\n",
        "\n",
        "Running it through `sess.run(tf.nn.top_k(tf.constant(a), k=3))` produces:\n",
        "\n",
        "```\n",
        "TopKV2(values=array([[ 0.34763842,  0.24879643,  0.12789202],\n",
        "       [ 0.28086119,  0.27569815,  0.18063401],\n",
        "       [ 0.26076848,  0.23892179,  0.23664738],\n",
        "       [ 0.29198961,  0.26234032,  0.16505091],\n",
        "       [ 0.34396535,  0.24206137,  0.16240774]]), indices=array([[3, 0, 5],\n",
        "       [0, 1, 4],\n",
        "       [0, 5, 1],\n",
        "       [1, 3, 5],\n",
        "       [1, 4, 3]], dtype=int32))\n",
        "```\n",
        "\n",
        "Looking just at the first row we get `[ 0.34763842,  0.24879643,  0.12789202]`, you can confirm these are the 3 largest probabilities in `a`. You'll also notice `[3, 0, 5]` are the corresponding indices."
      ]
    },
    {
      "metadata": {
        "id": "ytkPyx5WZ7rL",
        "colab_type": "code",
        "colab": {
          "autoexec": {
            "startup": false,
            "wait_interval": 0
          }
        }
      },
      "cell_type": "code",
      "source": [
        "### Print out the top five softmax probabilities for the predictions on the German traffic sign images found on the web. \n",
        "### Feel free to use as many code cells as needed."
      ],
      "execution_count": 0,
      "outputs": []
    },
    {
      "metadata": {
        "id": "r01VUwMcZ7rQ",
        "colab_type": "text"
      },
      "cell_type": "markdown",
      "source": [
        "### Project Writeup\n",
        "\n",
        "Once you have completed the code implementation, document your results in a project writeup using this [template](https://github.com/udacity/CarND-Traffic-Sign-Classifier-Project/blob/master/writeup_template.md) as a guide. The writeup can be in a markdown or pdf file. "
      ]
    },
    {
      "metadata": {
        "id": "NP0b-nDAZ7rU",
        "colab_type": "text"
      },
      "cell_type": "markdown",
      "source": [
        "> **Note**: Once you have completed all of the code implementations and successfully answered each question above, you may finalize your work by exporting the iPython Notebook as an HTML document. You can do this by using the menu above and navigating to  \\n\",\n",
        "    \"**File -> Download as -> HTML (.html)**. Include the finished document along with this notebook as your submission."
      ]
    },
    {
      "metadata": {
        "id": "jjefbkcNZ7rW",
        "colab_type": "text"
      },
      "cell_type": "markdown",
      "source": [
        "---\n",
        "\n",
        "## Step 4 (Optional): Visualize the Neural Network's State with Test Images\n",
        "\n",
        " This Section is not required to complete but acts as an additional excersise for understaning the output of a neural network's weights. While neural networks can be a great learning device they are often referred to as a black box. We can understand what the weights of a neural network look like better by plotting their feature maps. After successfully training your neural network you can see what it's feature maps look like by plotting the output of the network's weight layers in response to a test stimuli image. From these plotted feature maps, it's possible to see what characteristics of an image the network finds interesting. For a sign, maybe the inner network feature maps react with high activation to the sign's boundary outline or to the contrast in the sign's painted symbol.\n",
        "\n",
        " Provided for you below is the function code that allows you to get the visualization output of any tensorflow weight layer you want. The inputs to the function should be a stimuli image, one used during training or a new one you provided, and then the tensorflow variable name that represents the layer's state during the training process, for instance if you wanted to see what the [LeNet lab's](https://classroom.udacity.com/nanodegrees/nd013/parts/fbf77062-5703-404e-b60c-95b78b2f3f9e/modules/6df7ae49-c61c-4bb2-a23e-6527e69209ec/lessons/601ae704-1035-4287-8b11-e2c2716217ad/concepts/d4aca031-508f-4e0b-b493-e7b706120f81) feature maps looked like for it's second convolutional layer you could enter conv2 as the tf_activation variable.\n",
        "\n",
        "For an example of what feature map outputs look like, check out NVIDIA's results in their paper [End-to-End Deep Learning for Self-Driving Cars](https://devblogs.nvidia.com/parallelforall/deep-learning-self-driving-cars/) in the section Visualization of internal CNN State. NVIDIA was able to show that their network's inner weights had high activations to road boundary lines by comparing feature maps from an image with a clear path to one without. Try experimenting with a similar test to show that your trained network's weights are looking for interesting features, whether it's looking at differences in feature maps from images with or without a sign, or even what feature maps look like in a trained network vs a completely untrained one on the same sign image.\n",
        "\n",
        "<figure>\n",
        " <img src=\"visualize_cnn.png\" width=\"380\" alt=\"Combined Image\" />\n",
        " <figcaption>\n",
        " <p></p> \n",
        " <p style=\"text-align: center;\"> Your output should look something like this (above)</p> \n",
        " </figcaption>\n",
        "</figure>\n",
        " <p></p> \n"
      ]
    },
    {
      "metadata": {
        "id": "RLWavxkcZ7rW",
        "colab_type": "code",
        "colab": {
          "autoexec": {
            "startup": false,
            "wait_interval": 0
          }
        }
      },
      "cell_type": "code",
      "source": [
        "### Visualize your network's feature maps here.\n",
        "### Feel free to use as many code cells as needed.\n",
        "\n",
        "# image_input: the test image being fed into the network to produce the feature maps\n",
        "# tf_activation: should be a tf variable name used during your training procedure that represents the calculated state of a specific weight layer\n",
        "# activation_min/max: can be used to view the activation contrast in more detail, by default matplot sets min and max to the actual min and max values of the output\n",
        "# plt_num: used to plot out multiple different weight feature map sets on the same block, just extend the plt number for each new feature map entry\n",
        "\n",
        "def outputFeatureMap(image_input, tf_activation, activation_min=-1, activation_max=-1 ,plt_num=1):\n",
        "    # Here make sure to preprocess your image_input in a way your network expects\n",
        "    # with size, normalization, ect if needed\n",
        "    # image_input =\n",
        "    # Note: x should be the same name as your network's tensorflow data placeholder variable\n",
        "    # If you get an error tf_activation is not defined it may be having trouble accessing the variable from inside a function\n",
        "    activation = tf_activation.eval(session=sess,feed_dict={x : image_input})\n",
        "    featuremaps = activation.shape[3]\n",
        "    plt.figure(plt_num, figsize=(15,15))\n",
        "    for featuremap in range(featuremaps):\n",
        "        plt.subplot(6,8, featuremap+1) # sets the number of feature maps to show on each row and column\n",
        "        plt.title('FeatureMap ' + str(featuremap)) # displays the feature map number\n",
        "        if activation_min != -1 & activation_max != -1:\n",
        "            plt.imshow(activation[0,:,:, featuremap], interpolation=\"nearest\", vmin =activation_min, vmax=activation_max, cmap=\"gray\")\n",
        "        elif activation_max != -1:\n",
        "            plt.imshow(activation[0,:,:, featuremap], interpolation=\"nearest\", vmax=activation_max, cmap=\"gray\")\n",
        "        elif activation_min !=-1:\n",
        "            plt.imshow(activation[0,:,:, featuremap], interpolation=\"nearest\", vmin=activation_min, cmap=\"gray\")\n",
        "        else:\n",
        "            plt.imshow(activation[0,:,:, featuremap], interpolation=\"nearest\", cmap=\"gray\")"
      ],
      "execution_count": 0,
      "outputs": []
    }
  ]
}